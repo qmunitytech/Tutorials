{
 "cells": [
  {
   "cell_type": "markdown",
   "source": [
    "# Implementation of Grover's Algorithm using 2 qubits:"
   ],
   "metadata": {}
  },
  {
   "cell_type": "markdown",
   "source": [
    "In this tutorial we will get a fundamental knowledge of the infamous Grover's Search Algorithm. We will understand the steps of the algorithm with an easy example using 2 qubits and finally implement the circuit initialized using 2 qubits in a simulator and real quantum device.\n",
    "\n",
    "Grover's algorithm is a speed-searching algorithm that demonstrates Quantum superiority over classical algorithms. \n",
    "\n",
    "Many of us must have heard about the linear search algorithm: you are given a sorted set of data and you are to keep looking for the desired data-point until you find it. And so, the time complexity is directly related to the size of the data-set. However, Grover's search algorithm can speed up the search process quadratically. Let us consider a simple a scenario to get the intuition.\n",
    "\n",
    "Suppose, you are given a list of $N$ number of boxes and based on a unique property, you want to find a specific box. Classically, you need to make boolean query for $\\frac{N}{2}$ (average) times and in worst case for $N$ times. But Grover's algorithm will help us find the box with roughly $\\sqrt N$ steps based on amplitude amplification technique. Each box in the list is mapped as a possible state of qubits (e.g 8 ($2^N$) boxes need 3 qubits to be represented) and hence has a $\\frac{1}{\\sqrt N}$ probability of being the one we are looking for. Amplitude of the desired state is amplified which results in amplitude shrinkage of others so that each of the probabilities add up to unity. \n",
    "\n",
    "Now that we have amplified the amplitude, we apply the reflection oracle which basically adds negative phase to the solution state.\n",
    "\n",
    "For |X$\\rangle$, oracle is defined as: \n",
    "\n",
    "$$U_\\omega |x\\rangle = \\begin{cases}\n",
    "  |x\\rangle &  x \\ne \\omega \\\\\n",
    "-|x\\rangle &  x = \\omega\n",
    "\\end{cases}$$\n",
    "\n",
    "So graphically, the solution state has been reflected as follows: \n",
    "\n",
    "<img src=\"https://upload.wikimedia.org/wikipedia/commons/1/16/Grovers_algorithm_geometry.png\" width=\"250\" height=\"75\">\n",
    "\n",
    "As we iterate the steps (amplitude amplification and reflect oracle) the probability of solution state after measurement reaches ideally close to 1  (number of iteration doesn't affect time complexity).  Now, let us try to implement our understanding using simple Qiskit codes:"
   ],
   "metadata": {}
  },
  {
   "cell_type": "markdown",
   "source": [
    "### Step-1# Loading account and importing necessary libraries: "
   ],
   "metadata": {}
  },
  {
   "cell_type": "code",
   "execution_count": 1,
   "source": [
    "# Importing standard Qiskit libraries:\r\n",
    "import numpy as np     \r\n",
    "from qiskit import QuantumCircuit, transpile, Aer, IBMQ, execute, assemble\r\n",
    "from qiskit.providers.ibmq import least_busy\r\n",
    "from qiskit.tools.jupyter import *\r\n",
    "from qiskit.visualization import *\r\n",
    "from ibm_quantum_widgets import *\r\n",
    "# Loading your IBM Quantum account(s):\r\n",
    "provider = IBMQ.enable_account('')"
   ],
   "outputs": [],
   "metadata": {}
  },
  {
   "cell_type": "markdown",
   "source": [
    "### Step-2# Circuit initialization and defining corresponding oracle: "
   ],
   "metadata": {}
  },
  {
   "cell_type": "markdown",
   "source": [
    "In order to implement the algorithm we first need all of the qubits (2 in this example) in an uniform superposition state which can be achieved using the Hadamard gate on each qubit."
   ],
   "metadata": {}
  },
  {
   "cell_type": "code",
   "execution_count": 2,
   "source": [
    "## Creating function for Equal Superposition states of two qubits:\n",
    "def initialize(qc):\n",
    "    qc.h(0)         # Applying H gates to both qubits\n",
    "    qc.h(1)         # and initializing grover circuit\n",
    "    qc.barrier()\n",
    "grover_circuit = QuantumCircuit(2)\n",
    "initialize(grover_circuit)\n",
    "grover_circuit.draw('mpl')"
   ],
   "outputs": [
    {
     "output_type": "execute_result",
     "data": {
      "image/png": "[encoded data removed]",
      "text/plain": [
       "<Figure size 206.852x144.48 with 1 Axes>"
      ]
     },
     "metadata": {},
     "execution_count": 2
    }
   ],
   "metadata": {}
  },
  {
   "cell_type": "markdown",
   "source": [
    "Let's try to find the position of desired state (in this case) |11$\\rangle$:\n",
    "\n",
    "Here we try to understand how can we make an oracle for the required state:\n",
    "\n",
    "The oracle for state |11$\\rangle$ acts as follows-\n",
    "$$U_\\omega |s\\rangle = U_\\omega \\frac{1}{2}(|00\\rangle + |01\\rangle + |10\\rangle + |11\\rangle) = \\frac{1}{2}(|00\\rangle + |01\\rangle + |10\\rangle - |11\\rangle) $$\n",
    "\n",
    "and in the matrix form it corresponds to\n",
    "$$U_\\omega =\\left[ \\begin{array}{cccc}\n",
    "1 & 0 & 0 & 0 \\\\\n",
    "0 & 1 & 0 & 0\\\\\n",
    "0 & 0 & 1 & 0\\\\\n",
    "0 & 0 & 0 & -1\n",
    "\\end{array}\n",
    "\\right]$$\n",
    "Looking more closely we will be able to recognize that using the controlled Z gate on the state equally superposition state of |00\\rang we can achieve this state."
   ],
   "metadata": {}
  },
  {
   "cell_type": "code",
   "execution_count": 3,
   "source": [
    "def oracle_11(qc): \n",
    "\tqc.cz(0,1)          # Apply a controlled Z gate\n",
    "\tqc.barrier()\n",
    "oracle_11(grover_circuit)\n",
    "grover_circuit.draw('mpl')"
   ],
   "outputs": [
    {
     "output_type": "execute_result",
     "data": {
      "image/png": "[encoded data removed]",
      "text/plain": [
       "<Figure size 327.252x144.48 with 1 Axes>"
      ]
     },
     "metadata": {},
     "execution_count": 3
    }
   ],
   "metadata": {}
  },
  {
   "cell_type": "markdown",
   "source": [
    "### Step-3# Grover's diffusion operator:"
   ],
   "metadata": {}
  },
  {
   "cell_type": "markdown",
   "source": [
    "For completing the circuit, we need to use additional reflection and mainly the diffuser works to amplify the required states probability amplitude where else shrinks the that of other items. \n",
    "\n",
    "Constructing the complete circuit"
   ],
   "metadata": {}
  },
  {
   "cell_type": "code",
   "execution_count": 4,
   "source": [
    "# Creating Grover's Diffusion operator:\n",
    "def u_g(qc):\n",
    "  qc.h(0)\n",
    "  qc.h(1)\n",
    "  qc.x(0)\n",
    "  qc.x(1)\n",
    "  qc.h(1)\n",
    "  qc.cx(0,1)\n",
    "  qc.x(0)\n",
    "  qc.h(1)\n",
    "  qc.h(0)\n",
    "  qc.x(1)\n",
    "  qc.h(1)\n",
    "  qc.barrier()\n",
    "u_g(grover_circuit)        # temporary circuit just to see what U_s looks like\n",
    "grover_circuit.draw('mpl')"
   ],
   "outputs": [
    {
     "output_type": "execute_result",
     "data": {
      "image/png": "[encoded data removed]",
      "text/plain": [
       "<Figure size 808.852x144.48 with 1 Axes>"
      ]
     },
     "metadata": {},
     "execution_count": 4
    }
   ],
   "metadata": {}
  },
  {
   "cell_type": "markdown",
   "source": [
    "Adding measurement basis:"
   ],
   "metadata": {}
  },
  {
   "cell_type": "code",
   "execution_count": 5,
   "source": [
    "# Finally we measure the circuit:\n",
    "grover_circuit.measure_all()\n",
    "grover_circuit.draw('mpl')"
   ],
   "outputs": [
    {
     "output_type": "execute_result",
     "data": {
      "image/png": "[encoded data removed]",
      "text/plain": [
       "<Figure size 1019.88x204.68 with 1 Axes>"
      ]
     },
     "metadata": {},
     "execution_count": 5
    }
   ],
   "metadata": {}
  },
  {
   "cell_type": "markdown",
   "source": [
    "Adding measurement basis:"
   ],
   "metadata": {}
  },
  {
   "cell_type": "markdown",
   "source": [
    "### Step-4# Running the Grover's circuit on a simulator:"
   ],
   "metadata": {}
  },
  {
   "cell_type": "code",
   "execution_count": 6,
   "source": [
    "# Simulating the Circuit:\n",
    "backend = Aer.get_backend('qasm_simulator')\n",
    "job = execute(grover_circuit, backend, shots = 1024)\n",
    "result = job.result()\n",
    "counts = result.get_counts()\n",
    "plot_histogram(counts)"
   ],
   "outputs": [
    {
     "output_type": "execute_result",
     "data": {
      "image/png": "[encoded data removed]",
      "text/plain": [
       "<Figure size 504x360 with 1 Axes>"
      ]
     },
     "metadata": {},
     "execution_count": 6
    }
   ],
   "metadata": {}
  },
  {
   "cell_type": "markdown",
   "source": [
    "### Step-5# Running it on a real quantum device:"
   ],
   "metadata": {}
  },
  {
   "cell_type": "code",
   "execution_count": 7,
   "source": [
    "# Experimenting with real device:\n",
    "#IBMQ.load_account()\n",
    "# Getting the least busy backend:\n",
    "provider = IBMQ.get_provider(hub='ibm-q')\n",
    "backend = least_busy(provider.backends(filters=lambda x: x.configuration().n_qubits >= 2 \n",
    "                                       and not x.configuration().simulator \n",
    "                                       and x.status().operational==True))\n",
    "print(\"least busy backend: \", backend)"
   ],
   "outputs": [
    {
     "output_type": "stream",
     "name": "stdout",
     "text": [
      "least busy backend:  ibmq_manila\n"
     ]
    }
   ],
   "metadata": {}
  },
  {
   "cell_type": "code",
   "execution_count": 8,
   "source": [
    "# Running the circuit on the least busy backend. Monitor the execution of the job in the queue:\n",
    "from qiskit.tools.monitor import job_monitor\n",
    "transpiled_grover_circuit = transpile(grover_circuit, backend, optimization_level=3)\n",
    "qobj = assemble(transpiled_grover_circuit)\n",
    "job = backend.run(qobj)\n",
    "job_monitor(job, interval=2)"
   ],
   "outputs": [
    {
     "output_type": "stream",
     "name": "stderr",
     "text": [
      "<ipython-input-8-f016e18a0d01>:5: DeprecationWarning: Passing a Qobj to Backend.run is deprecated and will be removed in a future release. Please pass in circuits or pulse schedules instead.\n",
      "  job = backend.run(qobj)\n"
     ]
    },
    {
     "output_type": "stream",
     "name": "stdout",
     "text": [
      "Job Status: job has successfully run\n"
     ]
    }
   ],
   "metadata": {}
  },
  {
   "cell_type": "code",
   "execution_count": 9,
   "source": [
    "# Getting the results from the computation:\n",
    "results = job.result()\n",
    "answer = results.get_counts(grover_circuit)\n",
    "plot_histogram(answer)"
   ],
   "outputs": [
    {
     "output_type": "execute_result",
     "data": {
      "image/png": "[encoded data removed]",
      "text/plain": [
       "<Figure size 504x360 with 1 Axes>"
      ]
     },
     "metadata": {},
     "execution_count": 9
    }
   ],
   "metadata": {}
  },
  {
   "cell_type": "markdown",
   "source": [
    "Here, we can see that the probability of our desired state (|11$\\rangle$) is significantly higher than rest other states and thus easily distinguishable."
   ],
   "metadata": {}
  }
 ],
 "metadata": {
  "kernelspec": {
   "display_name": "QC_qiskit",
   "language": "python",
   "name": "qc_qiskit"
  },
  "language_info": {
   "codemirror_mode": {
    "name": "ipython",
    "version": 3
   },
   "file_extension": ".py",
   "mimetype": "text/x-python",
   "name": "python",
   "nbconvert_exporter": "python",
   "pygments_lexer": "ipython3",
   "version": "3.8.8"
  }
 },
 "nbformat": 4,
 "nbformat_minor": 5
}